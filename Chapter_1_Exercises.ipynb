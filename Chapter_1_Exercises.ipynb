{
  "nbformat": 4,
  "nbformat_minor": 0,
  "metadata": {
    "colab": {
      "provenance": [],
      "toc_visible": true
    },
    "kernelspec": {
      "name": "python3",
      "display_name": "Python 3"
    },
    "language_info": {
      "name": "python"
    }
  },
  "cells": [
    {
      "cell_type": "markdown",
      "source": [
        "# **CHAPTER 1 EXERCISES**"
      ],
      "metadata": {
        "id": "silW9uPFh3Tv"
      }
    },
    {
      "cell_type": "markdown",
      "metadata": {
        "id": "r9WSaxgHe3q8"
      },
      "source": [
        "#### Exercise 1\n",
        "\n",
        "Each line of code below contains an error. Fix the error and explain in a comment the reason for the error."
      ]
    },
    {
      "cell_type": "code",
      "execution_count": null,
      "metadata": {
        "id": "ewf34EkOe3q9",
        "colab": {
          "base_uri": "https://localhost:8080/"
        },
        "outputId": "0ee743e0-bc5c-473f-a14f-4b7621b30d7a"
      },
      "outputs": [
        {
          "output_type": "stream",
          "name": "stdout",
          "text": [
            "Hello world!\n"
          ]
        }
      ],
      "source": [
        "print('Hello world!')  #the letter p in print is capitalized"
      ]
    },
    {
      "cell_type": "code",
      "execution_count": null,
      "metadata": {
        "id": "gHjCAGKOe3q9",
        "colab": {
          "base_uri": "https://localhost:8080/"
        },
        "outputId": "eb589b83-f7c3-42fd-ee2f-43c9bf963e4e"
      },
      "outputs": [
        {
          "output_type": "stream",
          "name": "stdout",
          "text": [
            "Hello world!\n"
          ]
        }
      ],
      "source": [
        "print('Hello world!')  #missing open parenthesis"
      ]
    },
    {
      "cell_type": "code",
      "execution_count": null,
      "metadata": {
        "id": "UzgJ21hoe3q9",
        "colab": {
          "base_uri": "https://localhost:8080/"
        },
        "outputId": "bc44e18b-e95a-4df3-ddd5-86dc58b8b003"
      },
      "outputs": [
        {
          "output_type": "stream",
          "name": "stdout",
          "text": [
            "Hello world!\n"
          ]
        }
      ],
      "source": [
        "print('Hello world!')  #missing single quote"
      ]
    },
    {
      "cell_type": "code",
      "execution_count": null,
      "metadata": {
        "id": "fCPXblLre3q9",
        "colab": {
          "base_uri": "https://localhost:8080/"
        },
        "outputId": "beeb87f1-f388-4264-ed8b-a9a519ef1728"
      },
      "outputs": [
        {
          "output_type": "stream",
          "name": "stdout",
          "text": [
            "Hello world!\n"
          ]
        }
      ],
      "source": [
        "print('Hello world!')  #double single quote"
      ]
    },
    {
      "cell_type": "markdown",
      "metadata": {
        "id": "J6VDpIK-e3q9"
      },
      "source": [
        "#### Exercise 2\n",
        "What is the output of the code below? [PEW]"
      ]
    },
    {
      "cell_type": "code",
      "execution_count": null,
      "metadata": {
        "id": "g1KKu-i1e3q9",
        "colab": {
          "base_uri": "https://localhost:8080/"
        },
        "outputId": "9fcb19a6-704f-4fa0-fc2f-6304453ea8a6"
      },
      "outputs": [
        {
          "output_type": "stream",
          "name": "stdout",
          "text": [
            "44\n"
          ]
        }
      ],
      "source": [
        "x = 43\n",
        "x = x + 1\n",
        "print(x)  #the output of the code below is 44"
      ]
    },
    {
      "cell_type": "markdown",
      "metadata": {
        "id": "1IADShEEe3q9"
      },
      "source": [
        "#### Exercise 3\n",
        "The code below contains an error. Fix the error and explain in a comment the reason for the error."
      ]
    },
    {
      "cell_type": "code",
      "execution_count": null,
      "metadata": {
        "id": "N8h0sGX1e3q9",
        "colab": {
          "base_uri": "https://localhost:8080/"
        },
        "outputId": "cd98c652-896f-4d2f-b302-23910a59fd98"
      },
      "outputs": [
        {
          "output_type": "stream",
          "name": "stdout",
          "text": [
            "44\n"
          ]
        }
      ],
      "source": [
        "x = 43\n",
        "x = x + 1\n",
        "print(x) #the variable 'x' is capitalize"
      ]
    }
  ]
}