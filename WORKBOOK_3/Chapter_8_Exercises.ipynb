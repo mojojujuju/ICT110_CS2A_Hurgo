{
  "nbformat": 4,
  "nbformat_minor": 0,
  "metadata": {
    "colab": {
      "provenance": []
    },
    "kernelspec": {
      "name": "python3",
      "display_name": "Python 3"
    },
    "language_info": {
      "name": "python"
    }
  },
  "cells": [
    {
      "cell_type": "markdown",
      "metadata": {
        "id": "mZcZ0EldNIXC"
      },
      "source": [
        "## EXERCISES"
      ]
    },
    {
      "cell_type": "markdown",
      "metadata": {
        "id": "-_oCKSSfNIXC"
      },
      "source": [
        "#### Exercise 1\n",
        "\n",
        "Create an empty list then add the following numbers using `append`: 4, 6 9."
      ]
    },
    {
      "cell_type": "code",
      "source": [
        "my_list = []\n",
        "my_list.append(4)\n",
        "my_list.append(6)\n",
        "my_list.append(9)\n",
        "print(my_list)"
      ],
      "metadata": {
        "colab": {
          "base_uri": "https://localhost:8080/"
        },
        "id": "yX2eg6yRT2_L",
        "outputId": "561ac35e-c387-4ff2-a222-dc4cf025c98e"
      },
      "execution_count": null,
      "outputs": [
        {
          "output_type": "stream",
          "name": "stdout",
          "text": [
            "[4, 6, 9]\n"
          ]
        }
      ]
    },
    {
      "cell_type": "markdown",
      "metadata": {
        "id": "rKODbDI2NIXC"
      },
      "source": [
        "#### Exercise 2\n",
        "\n",
        "Using the `range` function, create a list containing the numbers from 0 to 10."
      ]
    },
    {
      "cell_type": "code",
      "source": [
        "numbers = list(range(11))\n",
        "\n",
        "print(numbers)"
      ],
      "metadata": {
        "colab": {
          "base_uri": "https://localhost:8080/"
        },
        "id": "rnJB9YirUCUP",
        "outputId": "6c8e66f8-3370-4cf9-f9de-82be0159d49a"
      },
      "execution_count": null,
      "outputs": [
        {
          "output_type": "stream",
          "name": "stdout",
          "text": [
            "[0, 1, 2, 3, 4, 5, 6, 7, 8, 9, 10]\n"
          ]
        }
      ]
    },
    {
      "cell_type": "markdown",
      "metadata": {
        "id": "6XvPFAYBNIXD"
      },
      "source": [
        "#### Exercise 3\n",
        "\n",
        "Create a list containing the valid grade values, then using `enumerate` in a `for` loop, print out all **indices** and **items** in the list.\n",
        "\n",
        "It should print out:\n",
        "\n",
        "    0   1.0\n",
        "    1   1.25\n",
        "    2   1.5\n",
        "    3   1.75\n",
        "    4   2.0\n",
        "    5   2.25\n",
        "    6   2.5\n",
        "    7   3.0\n",
        "      "
      ]
    },
    {
      "cell_type": "markdown",
      "metadata": {
        "id": "xis-npwWNIXD"
      },
      "source": [
        "#### Exercise 4\n",
        "\n",
        "Using Index Slicing, print out the list of grades higher than 2.0"
      ]
    },
    {
      "cell_type": "code",
      "source": [
        "grades = [1.0, 1.25, 1.5, 1.75, 2.0, 2.25, 2.5, 3.0]\n",
        "\n",
        "for index, grade in enumerate(grades):\n",
        "    print(index, ' ', grade)"
      ],
      "metadata": {
        "colab": {
          "base_uri": "https://localhost:8080/"
        },
        "id": "59YAHGwCUO4t",
        "outputId": "228d9e85-8ccb-4b48-81ff-03d902921c0c"
      },
      "execution_count": null,
      "outputs": [
        {
          "output_type": "stream",
          "name": "stdout",
          "text": [
            "0   1.0\n",
            "1   1.25\n",
            "2   1.5\n",
            "3   1.75\n",
            "4   2.0\n",
            "5   2.25\n",
            "6   2.5\n",
            "7   3.0\n"
          ]
        }
      ]
    },
    {
      "cell_type": "markdown",
      "metadata": {
        "id": "KDihKDAyNIXD"
      },
      "source": [
        "#### Exercise 5\n",
        "\n",
        "Using Index Slicing, print out the list of grades better than 2.0.\n"
      ]
    },
    {
      "cell_type": "code",
      "source": [
        "grades = [1.0, 1.25, 1.5, 1.75, 2.0, 2.25, 2.5, 3.0]\n",
        "\n",
        "better_grades = grades[grades.index(2.0) + 1:]\n",
        "\n",
        "print(better_grades)"
      ],
      "metadata": {
        "colab": {
          "base_uri": "https://localhost:8080/"
        },
        "id": "oCognmoQUjt2",
        "outputId": "66df36b7-f337-488d-f93e-f158a5d4bf5d"
      },
      "execution_count": null,
      "outputs": [
        {
          "output_type": "stream",
          "name": "stdout",
          "text": [
            "[2.25, 2.5, 3.0]\n"
          ]
        }
      ]
    },
    {
      "cell_type": "markdown",
      "metadata": {
        "id": "1x6wHOG9NIXE"
      },
      "source": [
        "#### Exercise 6\n",
        "\n",
        "Using Index Slicing, print out the grades 2.0,2.25,2.5."
      ]
    },
    {
      "cell_type": "code",
      "source": [
        "grades = [1.0, 1.25, 1.5, 1.75, 2.0, 2.25, 2.5, 3.0]\n",
        "\n",
        "selected_grades = grades[4:7]\n",
        "\n",
        "print(selected_grades)"
      ],
      "metadata": {
        "colab": {
          "base_uri": "https://localhost:8080/"
        },
        "id": "phIElpP0V_bq",
        "outputId": "ada8ed09-9bf8-4cf9-9eda-b1f412604496"
      },
      "execution_count": null,
      "outputs": [
        {
          "output_type": "stream",
          "name": "stdout",
          "text": [
            "[2.0, 2.25, 2.5]\n"
          ]
        }
      ]
    },
    {
      "cell_type": "markdown",
      "metadata": {
        "id": "wL822nnyNIXE"
      },
      "source": [
        "## CHALLENGE\n",
        "\n",
        "Modify the code in the subheading [Parsing Lines](#ParsingLines) to display all the time stamps\n",
        "of the emails in mboxt-short.txt\n"
      ]
    },
    {
      "cell_type": "markdown",
      "metadata": {
        "id": "FdsN8DIPNIW_"
      },
      "source": [
        "## Parsing lines <a id='ParsingLines'></a>"
      ]
    },
    {
      "cell_type": "markdown",
      "metadata": {
        "id": "jcBSvyeUNIXA"
      },
      "source": [
        "Usually when we are reading a file we want to do something to the lines other than just printing the whole line. Often we want to find the \"interesting lines\" and then parse the line to find some interesting part of the line. [PEW]"
      ]
    },
    {
      "cell_type": "markdown",
      "metadata": {
        "id": "1PJKdlugNIXA"
      },
      "source": [
        "What if we wanted to print out the email address of the lines that start with \"From \"?\n",
        "\n",
        "    From stephen.marquard@uct.ac.za Sat Jan  5 09:14:16 2008"
      ]
    },
    {
      "cell_type": "code",
      "source": [
        "file_contents = \"\"\"From stephen.marquard@uct.ac.za Sat Jan  5 09:14:16 2008\n",
        "From louis@students.edu Fri Jan  4 18:10:48 2008\n",
        "From zild@students.edu Fri Jan  4 16:10:39 2008\n",
        "From blaster@students.edu Fri Jan  4 15:46:24 2008\n",
        "From badjao@students.edu Fri Jan  4 15:03:18 2008\n",
        "From unique@students.edu Fri Jan  4 14:50:18 2008\"\"\"\n",
        "\n",
        "with open('mboxt-short.txt', 'w') as f:\n",
        "    f.write(file_contents)"
      ],
      "metadata": {
        "id": "FPRglMMJSgf_"
      },
      "execution_count": 5,
      "outputs": []
    },
    {
      "cell_type": "code",
      "execution_count": 3,
      "metadata": {
        "id": "WjZRgK59NIXB",
        "colab": {
          "base_uri": "https://localhost:8080/"
        },
        "outputId": "74b9b282-8234-49ac-bcb3-01bde5595d84"
      },
      "outputs": [
        {
          "output_type": "stream",
          "name": "stdout",
          "text": [
            "['stephen.marquard@uct.ac.za', 'louis@students.edu', 'zild@students.edu', 'blaster@students.edu', 'badjao@students.edu', 'unique@students.edu']\n"
          ]
        }
      ],
      "source": [
        "fhand = open('mboxt-short.txt')\n",
        "my_list = []\n",
        "for line in fhand:\n",
        "    line = line.rstrip()\n",
        "    if not line.startswith('From'):\n",
        "        continue\n",
        "    words = line.split()\n",
        "    if my_list == []:\n",
        "        my_list.append(words[1])\n",
        "    elif words[1] not in my_list:\n",
        "         my_list.append(words[1])\n",
        "print(my_list)"
      ]
    },
    {
      "cell_type": "code",
      "source": [
        "fhand = open('mboxt-short.txt')\n",
        "timestamps = []\n",
        "for line in fhand:\n",
        "    line = line.rstrip()\n",
        "    if line.startswith('From '):\n",
        "        words = line.split()\n",
        "        timestamps.append(words[5])\n",
        "\n",
        "for timestamp in timestamps:\n",
        "    print(timestamp)\n",
        "\n",
        "fhand.close()"
      ],
      "metadata": {
        "colab": {
          "base_uri": "https://localhost:8080/"
        },
        "id": "w_fnj2YhXIFj",
        "outputId": "c0f51e4b-3307-4b7b-9619-87c586c4591a"
      },
      "execution_count": 4,
      "outputs": [
        {
          "output_type": "stream",
          "name": "stdout",
          "text": [
            "09:14:16\n",
            "18:10:48\n",
            "16:10:39\n",
            "15:46:24\n",
            "15:03:18\n",
            "14:50:18\n"
          ]
        }
      ]
    }
  ]
}