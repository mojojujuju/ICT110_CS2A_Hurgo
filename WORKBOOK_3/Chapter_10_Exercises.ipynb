{
  "nbformat": 4,
  "nbformat_minor": 0,
  "metadata": {
    "colab": {
      "provenance": []
    },
    "kernelspec": {
      "name": "python3",
      "display_name": "Python 3"
    },
    "language_info": {
      "name": "python"
    }
  },
  "cells": [
    {
      "cell_type": "markdown",
      "metadata": {
        "id": "p4NqkCqnNIYD"
      },
      "source": [
        "## EXERCISES"
      ]
    },
    {
      "cell_type": "markdown",
      "metadata": {
        "id": "nXFwKtc1NIYE"
      },
      "source": [
        "#### Exercise 1\n",
        "\n",
        "Create a tuple with the following items: `1, 1, 2, 3, 5`. Feed the tuple to the `sum()` built-in function and check the result.\n"
      ]
    },
    {
      "cell_type": "code",
      "source": [
        "num_tuple = (1, 1, 2, 3, 5)\n",
        "total = sum(num_tuple)\n",
        "print(\"The sum of the tuple is:\", total)"
      ],
      "metadata": {
        "colab": {
          "base_uri": "https://localhost:8080/"
        },
        "id": "wMkxpeb0coWo",
        "outputId": "7c6ed749-dc6a-40b1-ae2d-e8475691ad90"
      },
      "execution_count": 6,
      "outputs": [
        {
          "output_type": "stream",
          "name": "stdout",
          "text": [
            "The sum of the tuple is: 12\n"
          ]
        }
      ]
    },
    {
      "cell_type": "markdown",
      "metadata": {
        "id": "6qDVX4tnNIYE"
      },
      "source": [
        "#### Exercise 2\n",
        "\n",
        "Unpack the following tuple into meaningful variables and display them\n",
        "\n",
        "```python\n",
        "ph_info = ('Philippines', 'Manila', 103.3) # The last number is the Population in Millions as of 2016\n",
        "```\n"
      ]
    },
    {
      "cell_type": "code",
      "source": [
        "ph_info = ('Philippines', 'Manila', 103.3) # The last number is the Population in Millions as of 2016\n",
        "\n",
        "country, capital, population = ph_info\n",
        "print(\"Country:\", country)\n",
        "print(\"Capital:\", capital)\n",
        "print(\"Population in Millions as of 2016: \", population)"
      ],
      "metadata": {
        "colab": {
          "base_uri": "https://localhost:8080/"
        },
        "id": "_6LKCc01dhOh",
        "outputId": "242d0b38-36b8-4440-a7d6-938df23f3339"
      },
      "execution_count": 5,
      "outputs": [
        {
          "output_type": "stream",
          "name": "stdout",
          "text": [
            "Country: Philippines\n",
            "Capital: Manila\n",
            "Population in Millions as of 2016:  103.3\n"
          ]
        }
      ]
    }
  ]
}