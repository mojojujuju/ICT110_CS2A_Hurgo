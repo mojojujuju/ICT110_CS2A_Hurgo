{
  "nbformat": 4,
  "nbformat_minor": 0,
  "metadata": {
    "colab": {
      "provenance": []
    },
    "kernelspec": {
      "name": "python3",
      "display_name": "Python 3"
    },
    "language_info": {
      "name": "python"
    }
  },
  "cells": [
    {
      "cell_type": "markdown",
      "metadata": {
        "id": "lMymMvrve3rQ"
      },
      "source": [
        "## EXERCISES"
      ]
    },
    {
      "cell_type": "markdown",
      "metadata": {
        "id": "WrWqQhdue3rQ"
      },
      "source": [
        "#### Exercise 1"
      ]
    },
    {
      "cell_type": "markdown",
      "metadata": {
        "id": "JkkxmMpoe3rQ"
      },
      "source": [
        "Investigate on the difference between `is` and `==` given the following variables.\n",
        "```python\n",
        "a = 2\n",
        "b = 2.0\n",
        "c = a\n",
        "```"
      ]
    },
    {
      "cell_type": "code",
      "source": [
        "a = 2    #'a' holds an integer value of 2\n",
        "b = 2.0  #'b' holds a floating point value of 2.0\n",
        "c = a    #'c' is assigned the same value as 'a'\n",
        "\n",
        "print(a is b)  #This is false because 'a' and 'b' has diifferent types.\n",
        "print(a is c)  #This is true because 'a' and 'c' has the same assigned value, which is 2.\n",
        "print(a==b)    #This is true because 'a' and 'b' have the same numerical value, which 2.\n",
        "print(a==c)    #This is true because 'a' and 'c' have the same numerical value, which 2."
      ],
      "metadata": {
        "colab": {
          "base_uri": "https://localhost:8080/"
        },
        "id": "LB8pajZLn6np",
        "outputId": "434ecb05-20e5-428d-d26f-30ac9163b1f8"
      },
      "execution_count": null,
      "outputs": [
        {
          "output_type": "stream",
          "name": "stdout",
          "text": [
            "False\n",
            "True\n",
            "True\n",
            "True\n"
          ]
        }
      ]
    },
    {
      "cell_type": "markdown",
      "metadata": {
        "id": "HnR5qgaHe3rQ"
      },
      "source": [
        "## CHALLENGES"
      ]
    },
    {
      "cell_type": "markdown",
      "metadata": {
        "id": "Ae2HErw9e3rQ"
      },
      "source": [
        "#### Challenge 1"
      ]
    },
    {
      "cell_type": "markdown",
      "metadata": {
        "id": "0pmOvKife3rQ"
      },
      "source": [
        "Write a program which repeatedly reads numbers until the user enters \"done\". Once \"done\" is entered, print out the total, count, and average of the numbers. If the user enters anything other than a number, detect their mistake using try and except and print an error message and skip to the next number.\n",
        "\n",
        "    Enter a number: 4\n",
        "    Enter a number: 5\n",
        "    Enter a number: bad data\n",
        "    Invalid input\n",
        "    Enter a number: 7\n",
        "    Enter a number: done\n",
        "    16 3 5.333333333333333\n",
        "    \n",
        "[PEW] E5.1"
      ]
    },
    {
      "cell_type": "code",
      "source": [
        "total = 0\n",
        "count = 0\n",
        "\n",
        "while True:\n",
        "    user_input = input(\"Enter a number or 'done' to finish: \")\n",
        "\n",
        "    if user_input == 'done':\n",
        "        break\n",
        "\n",
        "    try:\n",
        "        number = float(user_input)\n",
        "    except ValueError:\n",
        "        print(\"Invalid input.\")\n",
        "        continue\n",
        "\n",
        "    total += number\n",
        "    count += 1\n",
        "\n",
        "if count == 0:\n",
        "    print(\"No numbers entered.\")\n",
        "else:\n",
        "    average = total / count\n",
        "    print(total, count, average)"
      ],
      "metadata": {
        "colab": {
          "base_uri": "https://localhost:8080/"
        },
        "id": "A2lnMlAdYiXt",
        "outputId": "7cd2c25a-5e22-492a-8fd1-774f7531ce82"
      },
      "execution_count": null,
      "outputs": [
        {
          "output_type": "stream",
          "name": "stdout",
          "text": [
            "Enter a number or 'done' to finish: 4\n",
            "Enter a number or 'done' to finish: 5\n",
            "Enter a number or 'done' to finish: bad data\n",
            "Invalid input.\n",
            "Enter a number or 'done' to finish: 7\n",
            "Enter a number or 'done' to finish: done\n",
            "16.0 3 5.333333333333333\n"
          ]
        }
      ]
    },
    {
      "cell_type": "markdown",
      "metadata": {
        "id": "ts7aZrXte3rQ"
      },
      "source": [
        "#### Challenge 2  "
      ]
    },
    {
      "cell_type": "markdown",
      "metadata": {
        "id": "GiUa3gnoe3rQ"
      },
      "source": [
        "Write another program that prompts for a list of numbers as above and at the end prints out both the maximum and minimum of the numbers instead of the average.\n",
        "\n",
        "[PEW] E5.2"
      ]
    },
    {
      "cell_type": "code",
      "source": [
        "largest = None\n",
        "smallest = None\n",
        "\n",
        "while True:\n",
        "    user_input = input(\"Enter a number or 'done' to finish: \")\n",
        "\n",
        "    if user_input == 'done':\n",
        "        break\n",
        "\n",
        "    if user_input.isdigit():\n",
        "        number = float(user_input)\n",
        "        if largest is None or number > largest:\n",
        "            largest = number\n",
        "        if smallest is None or number < smallest:\n",
        "            smallest = number\n",
        "    else:\n",
        "        print(\"Invalid input.\")\n",
        "\n",
        "if largest is None and smallest is None:\n",
        "    print(\"No numbers entered.\")\n",
        "else:\n",
        "    print(\"Maximum:\", largest)\n",
        "    print(\"Minimum:\", smallest)"
      ],
      "metadata": {
        "colab": {
          "base_uri": "https://localhost:8080/"
        },
        "id": "_jUNEUaM9h4F",
        "outputId": "f7a7096e-4f6f-415c-d5e5-64d2744b173a"
      },
      "execution_count": null,
      "outputs": [
        {
          "output_type": "stream",
          "name": "stdout",
          "text": [
            "Enter a number or 'done' to finish: 4\n",
            "Enter a number or 'done' to finish: 5\n",
            "Enter a number or 'done' to finish: 7\n",
            "Enter a number or 'done' to finish: done\n",
            "Maximum: 7.0\n",
            "Minimum: 4.0\n"
          ]
        }
      ]
    }
  ]
}