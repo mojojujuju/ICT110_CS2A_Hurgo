{
  "nbformat": 4,
  "nbformat_minor": 0,
  "metadata": {
    "colab": {
      "provenance": []
    },
    "kernelspec": {
      "name": "python3",
      "display_name": "Python 3"
    },
    "language_info": {
      "name": "python"
    }
  },
  "cells": [
    {
      "cell_type": "markdown",
      "metadata": {
        "id": "bGjKPFnGe3rI"
      },
      "source": [
        "#### Exercise 1"
      ]
    },
    {
      "cell_type": "markdown",
      "metadata": {
        "id": "pDbHTZ1Qe3rI"
      },
      "source": [
        "In the code below, which will never print regardless of the value for x? Edit the code to correct the error.\n",
        "\n",
        "```python\n",
        "if x > 0 :\n",
        "    print('Above 0')\n",
        "elif x >  10 :\n",
        "    print('Above 10')\n",
        "elif x > 50 :\n",
        "    print('Above 50')\n",
        "elif x >  20 :\n",
        "    print('Above 20')\n",
        "else :\n",
        "    print('Something else')\n",
        "```"
      ]
    },
    {
      "cell_type": "code",
      "source": [
        "x = int(input(\"Enter a value for x: \"))\n",
        "\n",
        "if x > 50 :\n",
        "    print('Above 50')\n",
        "elif x >  20 :\n",
        "    print('Above 20')\n",
        "elif x > 10 :\n",
        "    print('Above 10')\n",
        "elif x >  0 :\n",
        "    print('Above 0')\n",
        "else :\n",
        "    print('Something else')"
      ],
      "metadata": {
        "id": "uG6sHYXUMBUq"
      },
      "execution_count": null,
      "outputs": []
    },
    {
      "cell_type": "markdown",
      "metadata": {
        "id": "e2xkW1_Ze3rI"
      },
      "source": [
        "#### Exercise 2"
      ]
    },
    {
      "cell_type": "markdown",
      "metadata": {
        "id": "HLALLCqZe3rI"
      },
      "source": [
        "Write your salary computation to give an employee 1.5 times the hourly rate for hours worked above 40 hours. Example:\n",
        "\n",
        "    Enter Hours: 45\n",
        "    Enter Rate: 10\n",
        "    Pay: 475.0\n",
        "    \n",
        "[PEW] E3.2"
      ]
    },
    {
      "cell_type": "code",
      "source": [
        "def compute_pay(hours, rate):\n",
        "    if hours <= 40:\n",
        "        pay = hours * rate\n",
        "    else:\n",
        "        base_pay = 40 * rate\n",
        "        overtime_hours = hours - 40\n",
        "        overtime_pay = overtime_hours * 1.5 * rate\n",
        "        pay = base_pay + overtime_pay\n",
        "    return pay\n",
        "\n",
        "hours_worked = float(input(\"Enter Hours: \"))\n",
        "hourly_rate = float(input(\"Enter Rate: \"))\n",
        "\n",
        "total_pay = compute_pay(hours_worked, hourly_rate)\n",
        "\n",
        "print(\"Pay:\", total_pay)\n",
        "\n"
      ],
      "metadata": {
        "colab": {
          "base_uri": "https://localhost:8080/"
        },
        "id": "uzqulDJbNeSS",
        "outputId": "0aeb8916-0222-460c-f1cf-852c4cf5198c"
      },
      "execution_count": null,
      "outputs": [
        {
          "output_type": "stream",
          "name": "stdout",
          "text": [
            "Enter Hours: 45\n",
            "Enter Rate: 10\n",
            "Pay: 475.0\n"
          ]
        }
      ]
    },
    {
      "cell_type": "markdown",
      "metadata": {
        "id": "SN_HES89e3rI"
      },
      "source": [
        "## CHALLENGE"
      ]
    },
    {
      "cell_type": "markdown",
      "metadata": {
        "id": "ECIVGzywe3rI"
      },
      "source": [
        "Write a program to prompt for a score between 0 and 100 and print a grade using the following table:\n",
        "\n",
        "    Score           Grade\n",
        "    [ 97, 100]      1.0\n",
        "    [ 93,  97)\t\t1.25\n",
        "    [ 89,  93)\t\t1.5\n",
        "    [ 85,  89)\t\t1.75\n",
        "    [ 81,  85)\t\t2.0\n",
        "    [ 77,  81)\t\t2.25\n",
        "    [ 74,  77)\t\t2.5\n",
        "    [ 0,   74)\t\t3.0\n",
        "\n",
        "Adapted from [PEW] E3.3\n",
        "<br>"
      ]
    },
    {
      "cell_type": "code",
      "source": [
        "score = int(input(\"Enter a score between 0 and 100: \"))\n",
        "\n",
        "if 97 <= score <= 100:\n",
        "    grade = 1.0\n",
        "elif 93 <= score < 97:\n",
        "    grade = 1.25\n",
        "elif 89 <= score < 93:\n",
        "    grade = 1.5\n",
        "elif 85 <= score < 89:\n",
        "    grade = 1.75\n",
        "elif 81 <= score < 85:\n",
        "    grade = 2.0\n",
        "elif 77 <= score < 81:\n",
        "    grade = 2.25\n",
        "elif 74 <= score < 77:\n",
        "    grade = 2.5\n",
        "elif 0 <= score < 74:\n",
        "    grade = 3.0\n",
        "else:\n",
        "    grade = \"Invalid score\"\n",
        "\n",
        "print(\"Grade:\", grade)"
      ],
      "metadata": {
        "colab": {
          "base_uri": "https://localhost:8080/"
        },
        "id": "hQnah77LWVhg",
        "outputId": "1488d2cc-05e7-4fad-ae3d-27be9177232e"
      },
      "execution_count": null,
      "outputs": [
        {
          "output_type": "stream",
          "name": "stdout",
          "text": [
            "Enter a score between 0 and 100: 78\n",
            "Grade: 2.25\n"
          ]
        }
      ]
    }
  ]
}