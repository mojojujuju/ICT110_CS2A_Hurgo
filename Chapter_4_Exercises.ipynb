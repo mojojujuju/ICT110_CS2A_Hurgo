{
  "nbformat": 4,
  "nbformat_minor": 0,
  "metadata": {
    "colab": {
      "provenance": [],
      "toc_visible": true
    },
    "kernelspec": {
      "name": "python3",
      "display_name": "Python 3"
    },
    "language_info": {
      "name": "python"
    }
  },
  "cells": [
    {
      "cell_type": "markdown",
      "metadata": {
        "id": "vqvAc3E8e3rM"
      },
      "source": [
        "#### Exercise 1"
      ]
    },
    {
      "cell_type": "markdown",
      "metadata": {
        "id": "FnC5OJKse3rM"
      },
      "source": [
        "Rewrite your pay computation with time-and-a-half for overtime and create a function called compute pay which takes two parameters (hours and rate).\n",
        "\n",
        "    Enter Hours: 45\n",
        "    Enter Rate: 10\n",
        "    Pay: 475.0\n",
        "    \n",
        "[PEW] E4.6"
      ]
    },
    {
      "cell_type": "code",
      "source": [
        "def compute_pay(hours, rate):\n",
        "    if hours <= 40:\n",
        "        pay = hours * rate\n",
        "    else:\n",
        "        initial_pay = 40 * rate\n",
        "        overtime_hours = hours - 40\n",
        "        overtime_pay = overtime_hours * 1.5 * rate\n",
        "        pay = initial_pay + overtime_pay\n",
        "    return pay\n",
        "\n",
        "hours_worked = float(input(\"Enter Hours: \"))\n",
        "hour_rate = float(input(\"Enter Rate: \"))\n",
        "\n",
        "total_pay = compute_pay(hours_worked, hour_rate)\n",
        "\n",
        "print(\"Pay:\", total_pay)"
      ],
      "metadata": {
        "colab": {
          "base_uri": "https://localhost:8080/"
        },
        "id": "27B7Og6HEqs7",
        "outputId": "fb070191-7000-4d6d-a1c4-27ba64751044"
      },
      "execution_count": 1,
      "outputs": [
        {
          "output_type": "stream",
          "name": "stdout",
          "text": [
            "Enter Hours: 45\n",
            "Enter Rate: 10\n",
            "Pay: 475.0\n"
          ]
        }
      ]
    },
    {
      "cell_type": "markdown",
      "metadata": {
        "id": "7mW1h8PMe3rM"
      },
      "source": [
        "## CHALLENGE"
      ]
    },
    {
      "cell_type": "markdown",
      "metadata": {
        "id": "Af7as9H2e3rM"
      },
      "source": [
        "#### Challenge"
      ]
    },
    {
      "cell_type": "markdown",
      "metadata": {
        "id": "9PzHw4oBe3rM"
      },
      "source": [
        "Write a function called computegrade that takes a score as its parameter and returns a grade as a string using the following table:\n",
        "\n",
        "    Score           Grade\n",
        "    [ 97, 100]      1.0\n",
        "    [ 93,  97)\t\t1.25\n",
        "    [ 89,  93)\t\t1.5\n",
        "    [ 85,  89)\t\t1.75\n",
        "    [ 81,  85)\t\t2.0\n",
        "    [ 77,  81)\t\t2.25\n",
        "    [ 74,  77)\t\t2.5\n",
        "    [ 0,   74)\t\t3.0\n",
        "\n",
        "    Run the program repeatedly to test the various different values for input.\n",
        "    \n",
        "Adapted from [PEW] E4.6\n",
        "<br>"
      ]
    },
    {
      "cell_type": "code",
      "source": [
        "def computegrade(score):\n",
        "    if 97 <= score <= 100:\n",
        "        return \"1.0\"\n",
        "    elif 93 <= score < 97:\n",
        "        return \"1.25\"\n",
        "    elif 89 <= score < 93:\n",
        "        return \"1.5\"\n",
        "    elif 85 <= score < 89:\n",
        "        return \"1.75\"\n",
        "    elif 81 <= score < 85:\n",
        "        return \"2.0\"\n",
        "    elif 77 <= score < 81:\n",
        "        return \"2.25\"\n",
        "    elif 74 <= score < 77:\n",
        "        return \"2.5\"\n",
        "    elif 0 <= score < 74:\n",
        "        return \"3.0\"\n",
        "    else:\n",
        "        return \"Invalid score\"\n",
        "\n",
        "score = float(input(\"Enter the score: \"))\n",
        "print(\"Grade:\", computegrade(score))"
      ],
      "metadata": {
        "colab": {
          "base_uri": "https://localhost:8080/"
        },
        "id": "9RXjyyVMYNAO",
        "outputId": "d487da15-5f7c-4b76-a43a-e533043c9d86"
      },
      "execution_count": null,
      "outputs": [
        {
          "output_type": "stream",
          "name": "stdout",
          "text": [
            "Enter the score: 79\n",
            "Grade: 2.25\n"
          ]
        }
      ]
    }
  ]
}