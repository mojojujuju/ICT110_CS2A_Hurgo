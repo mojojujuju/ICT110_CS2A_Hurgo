{
  "cells": [
    {
      "cell_type": "markdown",
      "metadata": {
        "id": "nuVwGoG6vLNM"
      },
      "source": [
        "#### Exercise 1"
      ]
    },
    {
      "cell_type": "markdown",
      "metadata": {
        "id": "_wMhbtmSwbPf"
      },
      "source": [
        "Given the code below    \n",
        "\n",
        "    text = 'Business Analytics'\n",
        "\n",
        "What will the following expressions produce?\n",
        "    \n",
        "    text[4]\n",
        "    text[2:4]\n",
        "    text[:4]\n",
        "    text[4:]\n",
        "    text[-2]\n",
        "    text[-4:-2]\n",
        "    text[-2:]\n",
        "    text[:-2]\n",
        "    "
      ]
    },
    {
      "cell_type": "code",
      "execution_count": null,
      "metadata": {
        "id": "vA1HgG6svuCt"
      },
      "outputs": [],
      "source": [
        "text = 'Business Analytics'\n",
        "\n",
        "print(text[4])         #This expression produces 'n' because index [4] holds n.\n",
        "print(text[2:4])       #This expression produces 'si' because index [2:4] holds si.\n",
        "print(text[:4])        #This expression produces 'Busi' because index []:4] holds Busi.\n",
        "print(text[4:])        #This expression produces 'ness Analytics' because index [4:] holds Busi.\n",
        "print(text[-2])        #This expression produces 'c' because index [-2] holds c.\n",
        "print(text[-4:-2])     #This expression produces 'ti' because index [-4:-2] holds ti.\n",
        "print(text[-2:])       #This expression produces 'cs' because index [-2:] holds cs.\n",
        "print(text[:-2])       #This expression produces 'Business Analyti' because index [:-2] holds Business Analyti."
      ]
    },
    {
      "cell_type": "markdown",
      "metadata": {
        "id": "Ws64NU-vvLNN"
      },
      "source": [
        "#### Exercise 2"
      ]
    },
    {
      "cell_type": "markdown",
      "metadata": {
        "id": "IR2Xc-OJvLNN"
      },
      "source": [
        "Given the code below:\n",
        "    \n",
        "    phrase = 'One Ring to rule them all'\n",
        "\n",
        "What string slicing expression gives out the following words:\n",
        "\n",
        "    'One '\n",
        "    'Ring'\n",
        "    'all'\n",
        "    'them'\n",
        "    'One Ring to rule them all'\n",
        "    "
      ]
    },
    {
      "cell_type": "code",
      "execution_count": null,
      "metadata": {
        "colab": {
          "base_uri": "https://localhost:8080/"
        },
        "id": "j93a_ruk1IQW",
        "outputId": "ee589540-af0f-4bbc-b4da-eee724d1cfb9"
      },
      "outputs": [
        {
          "name": "stdout",
          "output_type": "stream",
          "text": [
            "One \n",
            "Ring\n",
            "all\n",
            "them\n",
            "One Ring to rule them all\n"
          ]
        }
      ],
      "source": [
        "'One ' #phrase[:4]\n",
        "'Ring' #phrase[4:8]\n",
        "'all'  #phrase[-3:]\n",
        "'them' #phrase[17:21]\n",
        "'One Ring to rule them all'  #phrase[:]\n",
        "\n",
        "phrase = 'One Ring to rule them all'\n",
        "print(phrase[:4])\n",
        "print(phrase[4:8])\n",
        "print(phrase[-3:])\n",
        "print(phrase[17:21])\n",
        "print(phrase[:])"
      ]
    },
    {
      "cell_type": "markdown",
      "metadata": {
        "id": "5aY8TUbXvLNN"
      },
      "source": [
        "\n",
        "## CHALLENGE\n"
      ]
    },
    {
      "cell_type": "markdown",
      "metadata": {
        "id": "qOrFcjG-vLNN"
      },
      "source": [
        "Write a program which repeatedly reads a **full name**, then does the following:\n",
        "- strips the name of any trailing spaces\n",
        "- capitalizes the first letter\n",
        "- puts the rest into smaller letters\n"
      ]
    },
    {
      "cell_type": "code",
      "execution_count": null,
      "metadata": {
        "colab": {
          "base_uri": "https://localhost:8080/"
        },
        "id": "BfVF4-g82xt1",
        "outputId": "69f3ab79-fdc5-4036-e872-e62a250cff4a"
      },
      "outputs": [
        {
          "output_type": "stream",
          "name": "stdout",
          "text": [
            "Enter a full name: julliana Hurgo\n",
            "Formatted name: Julliana hurgo\n",
            "Enter a full name: VILMA hurgo\n",
            "Formatted name: Vilma hurgo\n",
            "Enter a full name: JoLibeRT HuRGo\n",
            "Formatted name: Jolibert hurgo\n",
            "Enter a full name: jOSHUA HURGO\n",
            "Formatted name: Joshua hurgo\n"
          ]
        }
      ],
      "source": [
        "while True:\n",
        "    full_name = input(\"Enter a full name: \")\n",
        "    formatted_name = full_name.strip().capitalize()\n",
        "\n",
        "    print(\"Formatted name:\", formatted_name)"
      ]
    }
  ],
  "metadata": {
    "colab": {
      "provenance": []
    },
    "kernelspec": {
      "display_name": "Python 3",
      "name": "python3"
    },
    "language_info": {
      "name": "python"
    }
  },
  "nbformat": 4,
  "nbformat_minor": 0
}